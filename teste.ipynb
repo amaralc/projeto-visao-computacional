{
 "cells": [
  {
   "cell_type": "markdown",
   "metadata": {},
   "source": [
    "# Digiclad"
   ]
  },
  {
   "cell_type": "markdown",
   "metadata": {},
   "source": [
    "## Importando Bibliotecas"
   ]
  },
  {
   "cell_type": "code",
   "execution_count": 111,
   "metadata": {},
   "outputs": [],
   "source": [
    "import cv2\n",
    "import matplotlib\n",
    "import numpy as np\n",
    "from matplotlib import pyplot as plt\n",
    "from PIL import Image\n",
    "from ipywidgets import interact, interactive, interact_manual"
   ]
  },
  {
   "cell_type": "markdown",
   "metadata": {},
   "source": [
    "## Explorando dados"
   ]
  },
  {
   "cell_type": "code",
   "execution_count": 112,
   "metadata": {},
   "outputs": [
    {
     "data": {
      "application/vnd.jupyter.widget-view+json": {
       "model_id": "a1e8b7f9af074d159645fa7b6a5489b4",
       "version_major": 2,
       "version_minor": 0
      },
      "text/plain": [
       "interactive(children=(Dropdown(description='label', options=('frame_00_delay-0.2s.png', 'frame_01_delay-0.2s.p…"
      ]
     },
     "metadata": {},
     "output_type": "display_data"
    }
   ],
   "source": [
    "# Conjunto de imagens {nome da imagem: (Original, Escala de cinza) }\n",
    "images = {}\n",
    "ORIG = 0\n",
    "GRAY = 1\n",
    "\n",
    "# Caminho dos dados\n",
    "FILEPATH = \"img/frames/png/\"\n",
    "\n",
    "# Carregar imagens \n",
    "for x in range(0,21):\n",
    " \n",
    "    # Nome da imagem\n",
    "    label = \"frame_%.2d_delay-0.2s.png\" %x\n",
    "\n",
    "    # Caminho do imagem\n",
    "    path = FILEPATH + label\n",
    "\n",
    "    # Carregar a imagem na cor BGR (Padrão Opencv)\n",
    "    orig = cv2.imread(path, cv2.IMREAD_COLOR)\n",
    "\n",
    "    # Converter para RGB\n",
    "    orig = cv2.cvtColor(orig, cv2.COLOR_BGR2RGB)\n",
    "\n",
    "    # Carregar imagem em escala de cinza\n",
    "    gray = orig[:,:,0]\n",
    "\n",
    "    # Salvando imagens no dicionario\n",
    "    images[label] = (orig, gray)\n",
    "\n",
    "# Visualizando imagem selecionada\n",
    "def view_image(label):\n",
    "    \n",
    "    # Referênciando variavel global\n",
    "    global images, img\n",
    "\n",
    "    # Recuperando imagem \n",
    "    orig, gray = images[label]\n",
    "    \n",
    "    # Plotar imagens\n",
    "    fig, axes = plt.subplots(1, 2, figsize=(16, 12), sharex=True, sharey=True)\n",
    "    ax = axes.ravel()\n",
    "    ax[0].imshow(orig)\n",
    "    ax[1].imshow(gray, 'gray')\n",
    "\n",
    "# Selecionar imagem apartir da escolha do usuário\n",
    "interactive(view_image, label=images.keys())\n",
    "    "
   ]
  },
  {
   "cell_type": "markdown",
   "metadata": {},
   "source": [
    "## Filtro Binario"
   ]
  },
  {
   "cell_type": "code",
   "execution_count": 113,
   "metadata": {},
   "outputs": [
    {
     "data": {
      "application/vnd.jupyter.widget-view+json": {
       "model_id": "e50918df4c7f4b4dbfe024a74de9db46",
       "version_major": 2,
       "version_minor": 0
      },
      "text/plain": [
       "interactive(children=(Dropdown(description='label', options=('frame_00_delay-0.2s.png', 'frame_01_delay-0.2s.p…"
      ]
     },
     "metadata": {},
     "output_type": "display_data"
    }
   ],
   "source": [
    "# Imagens com filtros\n",
    "images_filter = {}\n",
    "\n",
    "\n",
    "modes = ['cv2.THRESH_BINARY',\n",
    "         'cv2.THRESH_BINARY_INV',\n",
    "         'cv2.THRESH_TRUNC',\n",
    "         'cv2.THRESH_TOZERO',\n",
    "         'cv2.THRESH_TOZERO_INV']\n",
    "\n",
    "# Basic threshold example\n",
    "def my_threshold(label, thresh, modeStr):\n",
    "    \n",
    "    mode = eval(modeStr)\n",
    "\n",
    "    for key, value in images.items():\n",
    "        orig, gray = value\n",
    "        th, dst = cv2.threshold(gray, thresh, 255, mode)\n",
    "        images_filter[key] = dst\n",
    "\n",
    "\n",
    "    orig, gray = images[label]\n",
    "    dst = filters[key]\n",
    "    \n",
    "    fig, axes = plt.subplots(1, 2, figsize=(16, 12), sharex=True, sharey=True)\n",
    "    ax = axes.ravel()    \n",
    "    \n",
    "    ax[0].imshow(gray,'gray')\n",
    "    ax[1].imshow(dst,'gray')\n",
    "\n",
    "# Pass function & its parameters to interactive\n",
    "interactive(my_threshold, label=images.keys(), thresh = (0, 255), modeStr=modes)"
   ]
  },
  {
   "cell_type": "markdown",
   "metadata": {},
   "source": [
    "## Rotacionar Imagem"
   ]
  },
  {
   "cell_type": "code",
   "execution_count": 118,
   "metadata": {},
   "outputs": [
    {
     "data": {
      "application/vnd.jupyter.widget-view+json": {
       "model_id": "fef5c1449ff34c5a9a0199e00ab7dac1",
       "version_major": 2,
       "version_minor": 0
      },
      "text/plain": [
       "interactive(children=(Dropdown(description='label', options=('frame_00_delay-0.2s.png', 'frame_01_delay-0.2s.p…"
      ]
     },
     "metadata": {},
     "output_type": "display_data"
    }
   ],
   "source": [
    "images_rotate = {} \n",
    "\n",
    "def rotate_image(mat, angle):\n",
    "  # angle in degrees\n",
    "\n",
    "  height, width = mat.shape[:2]\n",
    "  image_center = (width/2, height/2)\n",
    "\n",
    "  rotation_mat = cv2.getRotationMatrix2D(image_center, angle, 1.)\n",
    "\n",
    "  abs_cos = abs(rotation_mat[0,0])\n",
    "  abs_sin = abs(rotation_mat[0,1])\n",
    "\n",
    "  bound_w = int(height * abs_sin + width * abs_cos)\n",
    "  bound_h = int(height * abs_cos + width * abs_sin)\n",
    "\n",
    "  rotation_mat[0, 2] += bound_w/2 - image_center[0]\n",
    "  rotation_mat[1, 2] += bound_h/2 - image_center[1]\n",
    "\n",
    "  rotated_mat = cv2.warpAffine(mat, rotation_mat, (bound_w, bound_h))\n",
    "  return rotated_mat\n",
    "\n",
    "def rotate_img(label, rt_degr):\n",
    "\n",
    "    for key, value in images_filter.items():\n",
    "        # Create image using rotate_image function\n",
    "        img_rt = rotate_image(value, rt_degr)\n",
    "        images_rotate[key] = img_rt\n",
    "\n",
    "    img_rt = images_rotate[label]\n",
    "    orig, gray = images[label]\n",
    "    \n",
    "    # Plot result comparing with original image\n",
    "    fig, axes = plt.subplots(1, 2, figsize=(16, 12), sharex=True, sharey=True)\n",
    "    ax = axes.ravel()\n",
    "    ax[0].imshow(orig)\n",
    "    ax[1].imshow(img_rt, 'gray')\n",
    "\n",
    "interactive(rotate_img, label=images.keys(), rt_degr=(0,360))\n"
   ]
  },
  {
   "cell_type": "code",
   "execution_count": null,
   "metadata": {},
   "outputs": [],
   "source": []
  },
  {
   "cell_type": "code",
   "execution_count": null,
   "metadata": {},
   "outputs": [],
   "source": []
  }
 ],
 "metadata": {
  "kernelspec": {
   "display_name": "Python 3",
   "language": "python",
   "name": "python3"
  },
  "language_info": {
   "codemirror_mode": {
    "name": "ipython",
    "version": 3
   },
   "file_extension": ".py",
   "mimetype": "text/x-python",
   "name": "python",
   "nbconvert_exporter": "python",
   "pygments_lexer": "ipython3",
   "version": "3.6.9"
  }
 },
 "nbformat": 4,
 "nbformat_minor": 2
}
