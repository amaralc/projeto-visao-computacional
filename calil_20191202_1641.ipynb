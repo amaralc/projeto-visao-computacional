{
 "cells": [
  {
   "cell_type": "code",
   "execution_count": 1,
   "metadata": {},
   "outputs": [],
   "source": [
    "# Initial setup\n",
    "%reload_ext autoreload\n",
    "%autoreload 2\n",
    "%matplotlib inline\n",
    "\n",
    "# Import libraries\n",
    "import cv2\n",
    "import matplotlib\n",
    "import numpy as np\n",
    "from matplotlib import pyplot as plt\n",
    "from ipywidgets import interact, interactive, interact_manual\n",
    "import math\n",
    "import statistics"
   ]
  },
  {
   "cell_type": "markdown",
   "metadata": {},
   "source": [
    "Import e gray"
   ]
  },
  {
   "cell_type": "code",
   "execution_count": 142,
   "metadata": {},
   "outputs": [
    {
     "data": {
      "application/vnd.jupyter.widget-view+json": {
       "model_id": "da5cd3208e1743bc986a9ac6ee679418",
       "version_major": 2,
       "version_minor": 0
      },
      "text/plain": [
       "interactive(children=(IntSlider(value=9, description='index', max=19), IntSlider(value=127, description='thres…"
      ]
     },
     "metadata": {},
     "output_type": "display_data"
    }
   ],
   "source": [
    "# Define caminho da imagem\n",
    "FILEPATH = \"img/frames_1/png_frames/\"\n",
    "\n",
    "def analyseImageWithPreview_1(index, thresh):\n",
    "\n",
    "    global orig, red, th, dst, kernel, dst_open, dst_close, img_height, img_width, cordao, avg_profile, avg_profile_rotated\n",
    "    \n",
    "    # Define label\n",
    "    LABEL = \"frame_(%d).jpg\" %index\n",
    "    \n",
    "    # Define nome do arquivo\n",
    "    FILENAME = FILEPATH + LABEL\n",
    "    \n",
    "    # Carregar a imagem na cor BGR (Padrão Opencv)\n",
    "    orig = cv2.imread(FILENAME, cv2.IMREAD_COLOR)\n",
    "    \n",
    "    # Cropa imagem pela metade\n",
    "    h = orig.shape[0]\n",
    "    orig = orig[0:int(h/2),:,:]\n",
    "\n",
    "    # Converter para RGB\n",
    "    orig = cv2.cvtColor(orig, cv2.COLOR_BGR2RGB)\n",
    "    \n",
    "    # Define apenas parte vermelha como array de trabalho\n",
    "    red = orig[:,:,0]\n",
    "    \n",
    "    # Define dimensoes da imagem resultante\n",
    "    img_height, img_width = red.shape\n",
    "    \n",
    "    # Plotar imagens\n",
    "    fig = plt.figure(figsize = (12,8))\n",
    "    original_image = plt.imshow(orig)  \n",
    "    \n",
    "    plt.figure(figsize = (12,8))\n",
    "    plt.imshow(red, 'gray')\n",
    "    \n",
    "# Selecionar imagem apartir da escolha do usuário\n",
    "interactive(analyseImageWithPreview_1, index=(0,19), thresh=(0,255))\n",
    "\n"
   ]
  },
  {
   "cell_type": "markdown",
   "metadata": {},
   "source": [
    "Threshold e Filtro"
   ]
  },
  {
   "cell_type": "code",
   "execution_count": 127,
   "metadata": {},
   "outputs": [
    {
     "data": {
      "application/vnd.jupyter.widget-view+json": {
       "model_id": "b8b6ac526266441e9b2c7cafe58796c6",
       "version_major": 2,
       "version_minor": 0
      },
      "text/plain": [
       "interactive(children=(IntSlider(value=127, description='thresh', max=255), IntSlider(value=5, description='k_r…"
      ]
     },
     "metadata": {},
     "output_type": "display_data"
    }
   ],
   "source": [
    "def analyseImageWithPreview(thresh, k_row, k_column):\n",
    "    \n",
    "    global th, dst, dst_open, kernel\n",
    "    \n",
    "    # Filtra imagem utilizando filtro binario (cria dst)\n",
    "    th, dst = cv2.threshold(red, thresh, 255, cv2.THRESH_BINARY)\n",
    "    \n",
    "    # Refina imagem \n",
    "    kernel = np.ones((k_row, k_column), np.uint8)    \n",
    "    dst_open = cv2.morphologyEx(dst, cv2.MORPH_OPEN, kernel)\n",
    "    \n",
    "    # Plotar imagens\n",
    "    plt.figure(figsize = (12,4))\n",
    "    plt.imshow(dst, 'gray')\n",
    "    \n",
    "    plt.figure(figsize = (12,4))\n",
    "    plt.imshow(dst_open, 'gray')\n",
    "    \n",
    "# Selecionar imagem apartir da escolha do usuário\n",
    "interactive(analyseImageWithPreview, thresh=(0,255), k_row=(1,10), k_column=(1,10))\n"
   ]
  },
  {
   "cell_type": "markdown",
   "metadata": {},
   "source": [
    "Avg profile"
   ]
  },
  {
   "cell_type": "code",
   "execution_count": 138,
   "metadata": {},
   "outputs": [
    {
     "data": {
      "text/plain": [
       "<matplotlib.legend.Legend at 0x1e07f20ae48>"
      ]
     },
     "execution_count": 138,
     "metadata": {},
     "output_type": "execute_result"
    },
    {
     "data": {
      "image/png": "[encoded data removed]",
      "text/plain": [
       "<Figure size 864x288 with 1 Axes>"
      ]
     },
     "metadata": {
      "needs_background": "light"
     },
     "output_type": "display_data"
    }
   ],
   "source": [
    "def averageProfileExtractor(img):\n",
    "    \n",
    "    global height, width\n",
    "    \n",
    "    # Define dimensoes da imagem de entrada\n",
    "    height, width = img.shape\n",
    "    \n",
    "    # Cria array de perfil médio  \n",
    "    avg_profile = np.array([])\n",
    "    \n",
    "    # Loop varrendo cada coluna da imagem de entrada\n",
    "    for column in range(0, width):\n",
    "        \n",
    "        # Array com valor das linhas que contém pixel branco\n",
    "        column_avg = np.array([])\n",
    "        \n",
    "        # Loop em uma coluna adicionando valor da linha de pixels brancos\n",
    "        for row in range(0, height):\n",
    "            if img[row,column] > 0:             \n",
    "                column_avg = np.append(column_avg, row)  \n",
    "        \n",
    "        # Adiciona média das linhas ao vetor avg_profile \n",
    "        avg_profile = np.append(avg_profile,np.mean(column_avg))     \n",
    "    \n",
    "    # Retorna array com perfil médio \n",
    "    return avg_profile\n",
    "\n",
    "# Calcula perfil médio da imagem refinada\n",
    "avg_profile = averageProfileExtractor(dst_open)  \n",
    "\n",
    "plt.figure(figsize = (12,4))\n",
    "original_profile_1, = plt.plot(avg_profile)\n",
    "original_profile_1.set_label('Perfil Original')\n",
    "plt.ylim((0,150))\n",
    "plt.legend()\n",
    "    \n"
   ]
  },
  {
   "cell_type": "code",
   "execution_count": 121,
   "metadata": {},
   "outputs": [],
   "source": [
    "## Gira imagem baseado em pixels das bordas\n",
    "\n",
    "### Função para retornar primeiro item não NaN\n",
    "def firstNonNan(listfloats):\n",
    "    for item in range(0,len(listfloats)):\n",
    "        if math.isnan(listfloats[item]) == False:\n",
    "            return [item,listfloats[item]]\n",
    "\n",
    "### Função para retornar último item não NaN\n",
    "def lastNonNan(listfloats):\n",
    "    for item in reversed(range(0,len(listfloats))):\n",
    "        if math.isnan(listfloats[item]) == False:\n",
    "            return [item,listfloats[item]]\n",
    "\n",
    "### Função para girar imagem        \n",
    "def rotate_image(mat, angle):\n",
    "    # angle in degrees\n",
    "\n",
    "    height, width = mat.shape[:2]\n",
    "    image_center = (width/2, height/2)\n",
    "\n",
    "    rotation_mat = cv2.getRotationMatrix2D(image_center, angle, 1.)\n",
    "\n",
    "    abs_cos = abs(rotation_mat[0,0])\n",
    "    abs_sin = abs(rotation_mat[0,1])\n",
    "\n",
    "    bound_w = int(height * abs_sin + width * abs_cos)\n",
    "    bound_h = int(height * abs_cos + width * abs_sin)\n",
    "\n",
    "    rotation_mat[0, 2] += bound_w/2 - image_center[0]\n",
    "    rotation_mat[1, 2] += bound_h/2 - image_center[1]\n",
    "\n",
    "    rotated_mat = cv2.warpAffine(mat, rotation_mat, (bound_w, bound_h))\n",
    "    return rotated_mat"
   ]
  },
  {
   "cell_type": "code",
   "execution_count": 144,
   "metadata": {},
   "outputs": [
    {
     "data": {
      "text/plain": [
       "<matplotlib.legend.Legend at 0x1e07bb31e48>"
      ]
     },
     "execution_count": 144,
     "metadata": {},
     "output_type": "execute_result"
    },
    {
     "data": {
      "image/png": "[encoded data removed]",
      "text/plain": [
       "<Figure size 864x288 with 1 Axes>"
      ]
     },
     "metadata": {
      "needs_background": "light"
     },
     "output_type": "display_data"
    },
    {
     "data": {
      "image/png": "[encoded data removed]",
      "text/plain": [
       "<Figure size 864x288 with 1 Axes>"
      ]
     },
     "metadata": {
      "needs_background": "light"
     },
     "output_type": "display_data"
    }
   ],
   "source": [
    "# Salva coordenadas da primeira região em branco [column, rowAvg]\n",
    "firstPixel = np.array(firstNonNan(avg_profile))\n",
    "\n",
    "# Salva coordenadas da última região em branco [column, rowAvg]\n",
    "lastPixel = np.array(lastNonNan(avg_profile))\n",
    "\n",
    "# Calcula cateto do triângulo formado entre os dois pontos e a horizontal\n",
    "cathetus  = lastPixel - firstPixel\n",
    "\n",
    "# Calcula ângulo de inclinação\n",
    "ang = math.atan(cathetus[1]/cathetus[0])*180/np.pi   \n",
    "\n",
    "# Cria imagem usando função rotate_image\n",
    "rotated_image = rotate_image(dst_open, ang)\n",
    "\n",
    "# Cria perfil médio depois de rotacionar imagem\n",
    "avg_profile_rotated = averageProfileExtractor(rotated_image)\n",
    "\n",
    "# Define linha horizontal\n",
    "bead_bottom = np.nanmin(avg_profile_rotated)\n",
    "\n",
    "# Define altura maxima\n",
    "bead_top = np.nanmax(avg_profile_rotated)\n",
    "\n",
    "plt.figure(figsize = (12,4))\n",
    "plt.imshow(dst_open, 'gray')\n",
    "plt.ylim((0,150))\n",
    "\n",
    "original_profile, = plt.plot(avg_profile)\n",
    "original_profile.set_label('Perfil Original Médio')\n",
    "plt.ylim((0,150))\n",
    "\n",
    "border_pixels, = plt.plot([firstPixel[0], lastPixel[0]], [firstPixel[1], lastPixel[1]], 'ro')\n",
    "border_pixels.set_label('Extremidades')\n",
    "\n",
    "plt.legend()\n",
    "\n",
    "\n",
    "\n",
    "\n",
    "plt.figure(figsize = (12,4))\n",
    "plt.imshow(rotated_image, 'gray')\n",
    "plt.ylim((0,150))\n",
    "\n",
    "original_profile, = plt.plot(avg_profile)\n",
    "original_profile.set_label('Perfil Original Médio')\n",
    "plt.ylim((0,150))\n",
    "\n",
    "rotated_profile, = plt.plot(avg_profile_rotated)\n",
    "rotated_profile.set_label('Perfil Rotacionado Médio (%d.1 °)' %ang)\n",
    "plt.ylim((0,150))\n",
    "\n",
    "border_pixels, = plt.plot([firstPixel[0], lastPixel[0]], [firstPixel[1], lastPixel[1]], 'ro')\n",
    "border_pixels.set_label('Extremidades')\n",
    "plt.legend()\n"
   ]
  },
  {
   "cell_type": "code",
   "execution_count": null,
   "metadata": {},
   "outputs": [],
   "source": []
  },
  {
   "cell_type": "code",
   "execution_count": null,
   "metadata": {},
   "outputs": [],
   "source": []
  },
  {
   "cell_type": "code",
   "execution_count": null,
   "metadata": {},
   "outputs": [],
   "source": []
  }
 ],
 "metadata": {
  "kernelspec": {
   "display_name": "Python 3",
   "language": "python",
   "name": "python3"
  },
  "language_info": {
   "codemirror_mode": {
    "name": "ipython",
    "version": 3
   },
   "file_extension": ".py",
   "mimetype": "text/x-python",
   "name": "python",
   "nbconvert_exporter": "python",
   "pygments_lexer": "ipython3",
   "version": "3.6.9"
  }
 },
 "nbformat": 4,
 "nbformat_minor": 2
}
